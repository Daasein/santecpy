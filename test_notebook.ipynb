{
 "cells": [
  {
   "cell_type": "markdown",
   "id": "f09caae8",
   "metadata": {},
   "source": [
    "# Setup Environment\n",
    "Prepare the environment by installing necessary libraries and setting up configurations."
   ]
  },
  {
   "cell_type": "code",
   "execution_count": 1,
   "id": "9d143b3d",
   "metadata": {},
   "outputs": [],
   "source": [
    "# Install necessary libraries\n",
    "# Uncomment the following lines to install libraries if not already installed\n",
    "# !pip install pyvisa\n",
    "# !pip install pyvisa-py\n",
    "# !pip install numpy\n",
    "\n",
    "# Import required libraries\n",
    "import pyvisa\n",
    "import numpy as np"
   ]
  },
  {
   "cell_type": "code",
   "execution_count": 2,
   "id": "1eb3ffff",
   "metadata": {},
   "outputs": [
    {
     "data": {
      "text/plain": [
       "('ASRL1::INSTR', 'GPIB0::30::INSTR')"
      ]
     },
     "execution_count": 2,
     "metadata": {},
     "output_type": "execute_result"
    }
   ],
   "source": [
    "from santecpy import SantecLaser\n",
    "SantecLaser.visadevlist()"
   ]
  },
  {
   "cell_type": "code",
   "execution_count": 3,
   "id": "904b98b5",
   "metadata": {},
   "outputs": [],
   "source": [
    "laser = SantecLaser('GPIB0::30::INSTR')"
   ]
  },
  {
   "cell_type": "code",
   "execution_count": 4,
   "id": "224d74f5",
   "metadata": {},
   "outputs": [],
   "source": [
    "laser.LD_on()"
   ]
  },
  {
   "cell_type": "code",
   "execution_count": 11,
   "id": "afb3bded",
   "metadata": {},
   "outputs": [],
   "source": [
    "laser.set_wavelength(1584.79)"
   ]
  },
  {
   "cell_type": "code",
   "execution_count": 10,
   "id": "9df91964",
   "metadata": {},
   "outputs": [],
   "source": [
    "laser.set_wavelength(1556)"
   ]
  },
  {
   "cell_type": "code",
   "execution_count": 6,
   "id": "7bb98cfd",
   "metadata": {},
   "outputs": [
    {
     "data": {
      "text/plain": [
       "' 202000\\n'"
      ]
     },
     "execution_count": 6,
     "metadata": {},
     "output_type": "execute_result"
    }
   ],
   "source": [
    "laser.su_code"
   ]
  },
  {
   "cell_type": "code",
   "execution_count": 17,
   "id": "e2b5b7e7",
   "metadata": {},
   "outputs": [
    {
     "name": "stdout",
     "output_type": "stream",
     "text": [
      "Current Power: -0.008 dBm\n"
     ]
    }
   ],
   "source": [
    "# Test setting power\n",
    "laser.set_power_mw(1)\n",
    "current_power = laser.optical_power\n",
    "print(f'Current Power: {current_power} dBm')"
   ]
  },
  {
   "cell_type": "code",
   "execution_count": 21,
   "id": "80533050",
   "metadata": {},
   "outputs": [
    {
     "name": "stdout",
     "output_type": "stream",
     "text": [
      "Current Wavelength: 1550.0 nm\n"
     ]
    }
   ],
   "source": [
    "# Test setting wavelength\n",
    "laser.set_wavelength(1550)\n",
    "current_wavelength = laser.wavelength\n",
    "print(f'Current Wavelength: {current_wavelength} nm')"
   ]
  },
  {
   "cell_type": "markdown",
   "id": "f029686d",
   "metadata": {},
   "source": [
    "## Test Fine Tuning"
   ]
  },
  {
   "cell_type": "code",
   "execution_count": 12,
   "id": "8588e05b",
   "metadata": {},
   "outputs": [],
   "source": [
    "laser.fine_tuning_on()\n"
   ]
  },
  {
   "cell_type": "code",
   "execution_count": 18,
   "id": "465b3b83",
   "metadata": {},
   "outputs": [
    {
     "name": "stdout",
     "output_type": "stream",
     "text": [
      "Fine tuning offset set to: -100\n",
      "Fine tuning offset set to: -99\n",
      "Fine tuning offset set to: -98\n",
      "Fine tuning offset set to: -97\n",
      "Fine tuning offset set to: -96\n",
      "Fine tuning offset set to: -95\n",
      "Fine tuning offset set to: -94\n",
      "Fine tuning offset set to: -93\n",
      "Fine tuning offset set to: -92\n",
      "Fine tuning offset set to: -91\n",
      "Fine tuning offset set to: -90\n",
      "Fine tuning offset set to: -89\n",
      "Fine tuning offset set to: -88\n",
      "Fine tuning offset set to: -87\n",
      "Fine tuning offset set to: -86\n",
      "Fine tuning offset set to: -85\n",
      "Fine tuning offset set to: -84\n",
      "Fine tuning offset set to: -83\n",
      "Fine tuning offset set to: -82\n",
      "Fine tuning offset set to: -81\n",
      "Fine tuning offset set to: -80\n",
      "Fine tuning offset set to: -79\n",
      "Fine tuning offset set to: -78\n",
      "Fine tuning offset set to: -77\n",
      "Fine tuning offset set to: -76\n",
      "Fine tuning offset set to: -75\n",
      "Fine tuning offset set to: -74\n",
      "Fine tuning offset set to: -73\n",
      "Fine tuning offset set to: -72\n",
      "Fine tuning offset set to: -71\n",
      "Fine tuning offset set to: -70\n",
      "Fine tuning offset set to: -69\n",
      "Fine tuning offset set to: -68\n",
      "Fine tuning offset set to: -67\n",
      "Fine tuning offset set to: -66\n",
      "Fine tuning offset set to: -65\n",
      "Fine tuning offset set to: -64\n",
      "Fine tuning offset set to: -63\n",
      "Fine tuning offset set to: -62\n",
      "Fine tuning offset set to: -61\n",
      "Fine tuning offset set to: -60\n",
      "Fine tuning offset set to: -59\n",
      "Fine tuning offset set to: -58\n",
      "Fine tuning offset set to: -57\n",
      "Fine tuning offset set to: -56\n",
      "Fine tuning offset set to: -55\n",
      "Fine tuning offset set to: -54\n",
      "Fine tuning offset set to: -53\n",
      "Fine tuning offset set to: -52\n",
      "Fine tuning offset set to: -51\n",
      "Fine tuning offset set to: -50\n",
      "Fine tuning offset set to: -49\n",
      "Fine tuning offset set to: -48\n",
      "Fine tuning offset set to: -47\n",
      "Fine tuning offset set to: -46\n",
      "Fine tuning offset set to: -45\n",
      "Fine tuning offset set to: -44\n",
      "Fine tuning offset set to: -43\n",
      "Fine tuning offset set to: -42\n",
      "Fine tuning offset set to: -41\n",
      "Fine tuning offset set to: -40\n",
      "Fine tuning offset set to: -39\n",
      "Fine tuning offset set to: -38\n",
      "Fine tuning offset set to: -37\n",
      "Fine tuning offset set to: -36\n",
      "Fine tuning offset set to: -35\n",
      "Fine tuning offset set to: -34\n",
      "Fine tuning offset set to: -33\n",
      "Fine tuning offset set to: -32\n",
      "Fine tuning offset set to: -31\n",
      "Fine tuning offset set to: -30\n",
      "Fine tuning offset set to: -29\n",
      "Fine tuning offset set to: -28\n",
      "Fine tuning offset set to: -27\n",
      "Fine tuning offset set to: -26\n",
      "Fine tuning offset set to: -25\n",
      "Fine tuning offset set to: -24\n",
      "Fine tuning offset set to: -23\n",
      "Fine tuning offset set to: -22\n",
      "Fine tuning offset set to: -21\n",
      "Fine tuning offset set to: -20\n",
      "Fine tuning offset set to: -19\n",
      "Fine tuning offset set to: -18\n",
      "Fine tuning offset set to: -17\n",
      "Fine tuning offset set to: -16\n",
      "Fine tuning offset set to: -15\n",
      "Fine tuning offset set to: -14\n",
      "Fine tuning offset set to: -13\n",
      "Fine tuning offset set to: -12\n",
      "Fine tuning offset set to: -11\n",
      "Fine tuning offset set to: -10\n",
      "Fine tuning offset set to: -9\n",
      "Fine tuning offset set to: -8\n",
      "Fine tuning offset set to: -7\n",
      "Fine tuning offset set to: -6\n",
      "Fine tuning offset set to: -5\n",
      "Fine tuning offset set to: -4\n",
      "Fine tuning offset set to: -3\n",
      "Fine tuning offset set to: -2\n",
      "Fine tuning offset set to: -1\n",
      "Fine tuning offset set to: 0\n",
      "Fine tuning offset set to: 1\n",
      "Fine tuning offset set to: 2\n",
      "Fine tuning offset set to: 3\n",
      "Fine tuning offset set to: 4\n",
      "Fine tuning offset set to: 5\n",
      "Fine tuning offset set to: 6\n",
      "Fine tuning offset set to: 7\n",
      "Fine tuning offset set to: 8\n",
      "Fine tuning offset set to: 9\n",
      "Fine tuning offset set to: 10\n",
      "Fine tuning offset set to: 11\n",
      "Fine tuning offset set to: 12\n",
      "Fine tuning offset set to: 13\n",
      "Fine tuning offset set to: 14\n",
      "Fine tuning offset set to: 15\n",
      "Fine tuning offset set to: 16\n",
      "Fine tuning offset set to: 17\n",
      "Fine tuning offset set to: 18\n",
      "Fine tuning offset set to: 19\n",
      "Fine tuning offset set to: 20\n",
      "Fine tuning offset set to: 21\n",
      "Fine tuning offset set to: 22\n",
      "Fine tuning offset set to: 23\n",
      "Fine tuning offset set to: 24\n",
      "Fine tuning offset set to: 25\n",
      "Fine tuning offset set to: 26\n",
      "Fine tuning offset set to: 27\n",
      "Fine tuning offset set to: 28\n",
      "Fine tuning offset set to: 29\n",
      "Fine tuning offset set to: 30\n",
      "Fine tuning offset set to: 31\n",
      "Fine tuning offset set to: 32\n",
      "Fine tuning offset set to: 33\n",
      "Fine tuning offset set to: 34\n",
      "Fine tuning offset set to: 35\n",
      "Fine tuning offset set to: 36\n",
      "Fine tuning offset set to: 37\n",
      "Fine tuning offset set to: 38\n",
      "Fine tuning offset set to: 39\n",
      "Fine tuning offset set to: 40\n",
      "Fine tuning offset set to: 41\n",
      "Fine tuning offset set to: 42\n",
      "Fine tuning offset set to: 43\n",
      "Fine tuning offset set to: 44\n",
      "Fine tuning offset set to: 45\n",
      "Fine tuning offset set to: 46\n",
      "Fine tuning offset set to: 47\n",
      "Fine tuning offset set to: 48\n",
      "Fine tuning offset set to: 49\n",
      "Fine tuning offset set to: 50\n",
      "Fine tuning offset set to: 51\n",
      "Fine tuning offset set to: 52\n",
      "Fine tuning offset set to: 53\n",
      "Fine tuning offset set to: 54\n",
      "Fine tuning offset set to: 55\n",
      "Fine tuning offset set to: 56\n",
      "Fine tuning offset set to: 57\n",
      "Fine tuning offset set to: 58\n",
      "Fine tuning offset set to: 59\n",
      "Fine tuning offset set to: 60\n",
      "Fine tuning offset set to: 61\n",
      "Fine tuning offset set to: 62\n",
      "Fine tuning offset set to: 63\n",
      "Fine tuning offset set to: 64\n",
      "Fine tuning offset set to: 65\n",
      "Fine tuning offset set to: 66\n",
      "Fine tuning offset set to: 67\n",
      "Fine tuning offset set to: 68\n",
      "Fine tuning offset set to: 69\n",
      "Fine tuning offset set to: 70\n",
      "Fine tuning offset set to: 71\n",
      "Fine tuning offset set to: 72\n",
      "Fine tuning offset set to: 73\n",
      "Fine tuning offset set to: 74\n",
      "Fine tuning offset set to: 75\n",
      "Fine tuning offset set to: 76\n",
      "Fine tuning offset set to: 77\n",
      "Fine tuning offset set to: 78\n",
      "Fine tuning offset set to: 79\n",
      "Fine tuning offset set to: 80\n",
      "Fine tuning offset set to: 81\n",
      "Fine tuning offset set to: 82\n",
      "Fine tuning offset set to: 83\n",
      "Fine tuning offset set to: 84\n",
      "Fine tuning offset set to: 85\n",
      "Fine tuning offset set to: 86\n",
      "Fine tuning offset set to: 87\n",
      "Fine tuning offset set to: 88\n",
      "Fine tuning offset set to: 89\n",
      "Fine tuning offset set to: 90\n",
      "Fine tuning offset set to: 91\n",
      "Fine tuning offset set to: 92\n",
      "Fine tuning offset set to: 93\n",
      "Fine tuning offset set to: 94\n",
      "Fine tuning offset set to: 95\n",
      "Fine tuning offset set to: 96\n",
      "Fine tuning offset set to: 97\n",
      "Fine tuning offset set to: 98\n",
      "Fine tuning offset set to: 99\n",
      "Fine tuning offset set to: 100\n"
     ]
    }
   ],
   "source": [
    "import time\n",
    "# Perform fine tuning from -100 to 100 with a step size of 1\n",
    "for offset in range(-100, 101, 1):\n",
    "    laser.fine_tuning(offset)\n",
    "    time.sleep(0.1)  # Sleep to allow the laser to adjust\n",
    "    print(f'Fine tuning offset set to: {offset}')"
   ]
  }
 ],
 "metadata": {
  "kernelspec": {
   "display_name": "Python 3",
   "language": "python",
   "name": "python3"
  },
  "language_info": {
   "codemirror_mode": {
    "name": "ipython",
    "version": 3
   },
   "file_extension": ".py",
   "mimetype": "text/x-python",
   "name": "python",
   "nbconvert_exporter": "python",
   "pygments_lexer": "ipython3",
   "version": "3.11.13"
  }
 },
 "nbformat": 4,
 "nbformat_minor": 5
}
