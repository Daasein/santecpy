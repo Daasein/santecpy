{
 "cells": [
  {
   "cell_type": "markdown",
   "id": "f09caae8",
   "metadata": {},
   "source": [
    "# Setup Environment\n",
    "Prepare the environment by installing necessary libraries and setting up configurations."
   ]
  },
  {
   "cell_type": "code",
   "execution_count": 1,
   "id": "9d143b3d",
   "metadata": {},
   "outputs": [],
   "source": [
    "# Install necessary libraries\n",
    "# Uncomment the following lines to install libraries if not already installed\n",
    "# !pip install pyvisa\n",
    "# !pip install pyvisa-py\n",
    "# !pip install numpy\n",
    "\n",
    "# Import required libraries\n",
    "import pyvisa\n",
    "import numpy as np"
   ]
  },
  {
   "cell_type": "code",
   "execution_count": 2,
   "id": "1eb3ffff",
   "metadata": {},
   "outputs": [
    {
     "data": {
      "text/plain": [
       "('ASRL1::INSTR', 'GPIB0::30::INSTR')"
      ]
     },
     "execution_count": 2,
     "metadata": {},
     "output_type": "execute_result"
    }
   ],
   "source": [
    "from main import SantecLaser\n",
    "SantecLaser.visadevlist()"
   ]
  },
  {
   "cell_type": "code",
   "execution_count": 3,
   "id": "904b98b5",
   "metadata": {},
   "outputs": [],
   "source": [
    "laser = SantecLaser('GPIB0::30::INSTR')"
   ]
  },
  {
   "cell_type": "code",
   "execution_count": 4,
   "id": "224d74f5",
   "metadata": {},
   "outputs": [],
   "source": [
    "laser.LD_on()"
   ]
  },
  {
   "cell_type": "code",
   "execution_count": 5,
   "id": "afb3bded",
   "metadata": {},
   "outputs": [
    {
     "data": {
      "text/plain": [
       "'-202000'"
      ]
     },
     "execution_count": 5,
     "metadata": {},
     "output_type": "execute_result"
    }
   ],
   "source": [
    "laser.su_code"
   ]
  },
  {
   "cell_type": "code",
   "execution_count": 10,
   "id": "9df91964",
   "metadata": {},
   "outputs": [],
   "source": [
    "laser.set_wavelength(1556)"
   ]
  },
  {
   "cell_type": "code",
   "execution_count": 6,
   "id": "7bb98cfd",
   "metadata": {},
   "outputs": [
    {
     "data": {
      "text/plain": [
       "' 202000\\n'"
      ]
     },
     "execution_count": 6,
     "metadata": {},
     "output_type": "execute_result"
    }
   ],
   "source": [
    "laser.su_code"
   ]
  },
  {
   "cell_type": "code",
   "execution_count": 17,
   "id": "e2b5b7e7",
   "metadata": {},
   "outputs": [
    {
     "name": "stdout",
     "output_type": "stream",
     "text": [
      "Current Power: -0.008 dBm\n"
     ]
    }
   ],
   "source": [
    "# Test setting power\n",
    "laser.set_power_mw(1)\n",
    "current_power = laser.optical_power\n",
    "print(f'Current Power: {current_power} dBm')"
   ]
  },
  {
   "cell_type": "code",
   "execution_count": 21,
   "id": "80533050",
   "metadata": {},
   "outputs": [
    {
     "name": "stdout",
     "output_type": "stream",
     "text": [
      "Current Wavelength: 1550.0 nm\n"
     ]
    }
   ],
   "source": [
    "# Test setting wavelength\n",
    "laser.set_wavelength(1550)\n",
    "current_wavelength = laser.wavelength\n",
    "print(f'Current Wavelength: {current_wavelength} nm')"
   ]
  }
 ],
 "metadata": {
  "kernelspec": {
   "display_name": ".conda",
   "language": "python",
   "name": "python3"
  },
  "language_info": {
   "codemirror_mode": {
    "name": "ipython",
    "version": 3
   },
   "file_extension": ".py",
   "mimetype": "text/x-python",
   "name": "python",
   "nbconvert_exporter": "python",
   "pygments_lexer": "ipython3",
   "version": "3.11.13"
  }
 },
 "nbformat": 4,
 "nbformat_minor": 5
}
